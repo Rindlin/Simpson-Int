{
  "nbformat": 4,
  "nbformat_minor": 0,
  "metadata": {
    "colab": {
      "provenance": [],
      "authorship_tag": "ABX9TyPosasRmqtkrrcQuBrs7n65",
      "include_colab_link": true
    },
    "kernelspec": {
      "name": "python3",
      "display_name": "Python 3"
    },
    "language_info": {
      "name": "python"
    }
  },
  "cells": [
    {
      "cell_type": "markdown",
      "metadata": {
        "id": "view-in-github",
        "colab_type": "text"
      },
      "source": [
        "<a href=\"https://colab.research.google.com/github/Rindlin/Simpson-Int/blob/main/Integral_Simpson.ipynb\" target=\"_parent\"><img src=\"https://colab.research.google.com/assets/colab-badge.svg\" alt=\"Open In Colab\"/></a>"
      ]
    },
    {
      "cell_type": "code",
      "source": [
        "import numpy as np\n",
        "import time\n",
        "import matplotlib.pyplot as plt\n",
        "\n",
        "# Fungsi yang diintegrasikan\n",
        "def f(x):\n",
        "    return 4 / (1 + x**2)\n",
        "\n",
        "# Fungsi integrasi metode Simpson\n",
        "def simpsons(a, b, N):\n",
        "    dx = abs((b - a) / N)\n",
        "\n",
        "    OddSum = 0.0\n",
        "    EvenSum = 0.0\n",
        "\n",
        "    for k in range(1, N, 2):\n",
        "        OddSum += f(a + k * dx)\n",
        "\n",
        "    for k in range(2, N, 2):\n",
        "        EvenSum += f(a + k * dx)\n",
        "\n",
        "    I = (1.0 / 3.0) * dx * (f(a) + f(b) + 4 * OddSum + 2 * EvenSum)\n",
        "    return I\n",
        "\n",
        "# Nilai referensi pi\n",
        "pi_ref = 3.14159265358979323846\n",
        "\n",
        "# Nilai-nilai N yang akan diuji\n",
        "N_values = [10, 100, 1000, 10000]\n",
        "\n",
        "# Dictionary untuk menyimpan hasil\n",
        "results = {}\n",
        "\n",
        "for N in N_values:\n",
        "    start_time = time.time()\n",
        "\n",
        "    integral_value = simpsons(0, 1, N)\n",
        "\n",
        "    end_time = time.time()\n",
        "    execution_time = end_time - start_time\n",
        "    rms_error = np.sqrt((integral_value - pi_ref)**2)\n",
        "\n",
        "    results[N] = {\n",
        "        'Integral Value': integral_value,\n",
        "        'RMS Error': rms_error,\n",
        "        'Execution Time': execution_time\n",
        "    }\n",
        "\n",
        "# Display the results\n",
        "for N, result in results.items():\n",
        "    print(f\"N = {N}:\")\n",
        "    print(f\"  Integral Value: {result['Integral Value']}\")\n",
        "    print(f\"  RMS Error: {result['RMS Error']}\")\n",
        "    print(f\"  Execution Time: {result['Execution Time']} seconds\\n\")\n",
        "\n",
        "# Bagian iterasi untuk menemukan N yang sesuai dengan kesalahan kecil\n",
        "N = 2\n",
        "In = simpsons(0, 1, 2)\n",
        "In1 = simpsons(0, 1, 4)\n",
        "SimpError = 100000\n",
        "\n",
        "# List untuk menyimpan nilai N dan kesalahan\n",
        "N_list = []\n",
        "error_list = []\n",
        "\n",
        "while SimpError > 1e-6:\n",
        "    simpsons(0, 1, N)\n",
        "\n",
        "    SimpError = abs((1.0 / 15) * (In1 - In))\n",
        "\n",
        "    N_list.append(np.log10(N))\n",
        "    error_list.append(np.log10(1 / SimpError))\n",
        "\n",
        "    In = In1\n",
        "    In1 = simpsons(0, 1, N)\n",
        "    N *= 2\n",
        "\n",
        "# Plotting log10(N) vs log10(1/SimpError)\n",
        "plt.plot(N_list, error_list, 'go')\n",
        "plt.xlabel('Log10(N)')\n",
        "plt.ylabel('Log10(1/SimpError)')\n",
        "plt.title('Simpson\\'s Rule Convergence')\n",
        "plt.show()\n"
      ],
      "metadata": {
        "colab": {
          "base_uri": "https://localhost:8080/",
          "height": 819
        },
        "id": "btTI6eBQlN7X",
        "outputId": "81233c24-9a42-4b26-8f6c-bb885c5396a3"
      },
      "execution_count": 5,
      "outputs": [
        {
          "output_type": "stream",
          "name": "stdout",
          "text": [
            "N = 10:\n",
            "  Integral Value: 3.141592613939215\n",
            "  RMS Error: 3.9650577932093256e-08\n",
            "  Execution Time: 4.267692565917969e-05 seconds\n",
            "\n",
            "N = 100:\n",
            "  Integral Value: 3.1415926535897527\n",
            "  RMS Error: 4.04121180963557e-14\n",
            "  Execution Time: 7.176399230957031e-05 seconds\n",
            "\n",
            "N = 1000:\n",
            "  Integral Value: 3.141592653589796\n",
            "  RMS Error: 2.6645352591003757e-15\n",
            "  Execution Time: 0.0006251335144042969 seconds\n",
            "\n",
            "N = 10000:\n",
            "  Integral Value: 3.141592653589789\n",
            "  RMS Error: 3.9968028886505635e-15\n",
            "  Execution Time: 0.0060579776763916016 seconds\n",
            "\n"
          ]
        },
        {
          "output_type": "display_data",
          "data": {
            "text/plain": [
              "<Figure size 640x480 with 1 Axes>"
            ],
            "image/png": "[encoded data removed]"
          },
          "metadata": {}
        }
      ]
    }
  ]
}